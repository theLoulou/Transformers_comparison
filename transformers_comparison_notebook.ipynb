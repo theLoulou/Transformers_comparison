{
  "nbformat": 4,
  "nbformat_minor": 0,
  "metadata": {
    "kernelspec": {
      "name": "python3",
      "display_name": "Python 3"
    },
    "colab": {
      "name": "Projet_SYS843.ipynb",
      "provenance": [],
      "collapsed_sections": []
    },
    "accelerator": "GPU",
    "widgets": {
      "application/vnd.jupyter.widget-state+json": {
        "3e0b5d6728f74510b1463cea2aef6426": {
          "model_module": "@jupyter-widgets/controls",
          "model_name": "HBoxModel",
          "state": {
            "_view_name": "HBoxView",
            "_dom_classes": [],
            "_model_name": "HBoxModel",
            "_view_module": "@jupyter-widgets/controls",
            "_model_module_version": "1.5.0",
            "_view_count": null,
            "_view_module_version": "1.5.0",
            "box_style": "",
            "layout": "IPY_MODEL_958295d6ad084046a02fb548d6859339",
            "_model_module": "@jupyter-widgets/controls",
            "children": [
              "IPY_MODEL_d02d0ffa40844d708a1ba14f6535a57a",
              "IPY_MODEL_a51a7b6fc1d345d9a027828f0881751c"
            ]
          }
        },
        "958295d6ad084046a02fb548d6859339": {
          "model_module": "@jupyter-widgets/base",
          "model_name": "LayoutModel",
          "state": {
            "_view_name": "LayoutView",
            "grid_template_rows": null,
            "right": null,
            "justify_content": null,
            "_view_module": "@jupyter-widgets/base",
            "overflow": null,
            "_model_module_version": "1.2.0",
            "_view_count": null,
            "flex_flow": null,
            "width": null,
            "min_width": null,
            "border": null,
            "align_items": null,
            "bottom": null,
            "_model_module": "@jupyter-widgets/base",
            "top": null,
            "grid_column": null,
            "overflow_y": null,
            "overflow_x": null,
            "grid_auto_flow": null,
            "grid_area": null,
            "grid_template_columns": null,
            "flex": null,
            "_model_name": "LayoutModel",
            "justify_items": null,
            "grid_row": null,
            "max_height": null,
            "align_content": null,
            "visibility": null,
            "align_self": null,
            "height": null,
            "min_height": null,
            "padding": null,
            "grid_auto_rows": null,
            "grid_gap": null,
            "max_width": null,
            "order": null,
            "_view_module_version": "1.2.0",
            "grid_template_areas": null,
            "object_position": null,
            "object_fit": null,
            "grid_auto_columns": null,
            "margin": null,
            "display": null,
            "left": null
          }
        },
        "d02d0ffa40844d708a1ba14f6535a57a": {
          "model_module": "@jupyter-widgets/controls",
          "model_name": "IntProgressModel",
          "state": {
            "_view_name": "ProgressView",
            "style": "IPY_MODEL_3d46d085503949f6bc0b1d20977f0552",
            "_dom_classes": [],
            "description": "Downloading: 100%",
            "_model_name": "IntProgressModel",
            "bar_style": "success",
            "max": 433,
            "_view_module": "@jupyter-widgets/controls",
            "_model_module_version": "1.5.0",
            "value": 433,
            "_view_count": null,
            "_view_module_version": "1.5.0",
            "orientation": "horizontal",
            "min": 0,
            "description_tooltip": null,
            "_model_module": "@jupyter-widgets/controls",
            "layout": "IPY_MODEL_0c1ea48318ca4c5e9f898a65b66f6dde"
          }
        },
        "a51a7b6fc1d345d9a027828f0881751c": {
          "model_module": "@jupyter-widgets/controls",
          "model_name": "HTMLModel",
          "state": {
            "_view_name": "HTMLView",
            "style": "IPY_MODEL_255f3b9b057449bea3acd152df4c5927",
            "_dom_classes": [],
            "description": "",
            "_model_name": "HTMLModel",
            "placeholder": "​",
            "_view_module": "@jupyter-widgets/controls",
            "_model_module_version": "1.5.0",
            "value": " 433/433 [00:20&lt;00:00, 21.2B/s]",
            "_view_count": null,
            "_view_module_version": "1.5.0",
            "description_tooltip": null,
            "_model_module": "@jupyter-widgets/controls",
            "layout": "IPY_MODEL_a0dd593219d141699d9e21ffd1a662ef"
          }
        },
        "3d46d085503949f6bc0b1d20977f0552": {
          "model_module": "@jupyter-widgets/controls",
          "model_name": "ProgressStyleModel",
          "state": {
            "_view_name": "StyleView",
            "_model_name": "ProgressStyleModel",
            "description_width": "initial",
            "_view_module": "@jupyter-widgets/base",
            "_model_module_version": "1.5.0",
            "_view_count": null,
            "_view_module_version": "1.2.0",
            "bar_color": null,
            "_model_module": "@jupyter-widgets/controls"
          }
        },
        "0c1ea48318ca4c5e9f898a65b66f6dde": {
          "model_module": "@jupyter-widgets/base",
          "model_name": "LayoutModel",
          "state": {
            "_view_name": "LayoutView",
            "grid_template_rows": null,
            "right": null,
            "justify_content": null,
            "_view_module": "@jupyter-widgets/base",
            "overflow": null,
            "_model_module_version": "1.2.0",
            "_view_count": null,
            "flex_flow": null,
            "width": null,
            "min_width": null,
            "border": null,
            "align_items": null,
            "bottom": null,
            "_model_module": "@jupyter-widgets/base",
            "top": null,
            "grid_column": null,
            "overflow_y": null,
            "overflow_x": null,
            "grid_auto_flow": null,
            "grid_area": null,
            "grid_template_columns": null,
            "flex": null,
            "_model_name": "LayoutModel",
            "justify_items": null,
            "grid_row": null,
            "max_height": null,
            "align_content": null,
            "visibility": null,
            "align_self": null,
            "height": null,
            "min_height": null,
            "padding": null,
            "grid_auto_rows": null,
            "grid_gap": null,
            "max_width": null,
            "order": null,
            "_view_module_version": "1.2.0",
            "grid_template_areas": null,
            "object_position": null,
            "object_fit": null,
            "grid_auto_columns": null,
            "margin": null,
            "display": null,
            "left": null
          }
        },
        "255f3b9b057449bea3acd152df4c5927": {
          "model_module": "@jupyter-widgets/controls",
          "model_name": "DescriptionStyleModel",
          "state": {
            "_view_name": "StyleView",
            "_model_name": "DescriptionStyleModel",
            "description_width": "",
            "_view_module": "@jupyter-widgets/base",
            "_model_module_version": "1.5.0",
            "_view_count": null,
            "_view_module_version": "1.2.0",
            "_model_module": "@jupyter-widgets/controls"
          }
        },
        "a0dd593219d141699d9e21ffd1a662ef": {
          "model_module": "@jupyter-widgets/base",
          "model_name": "LayoutModel",
          "state": {
            "_view_name": "LayoutView",
            "grid_template_rows": null,
            "right": null,
            "justify_content": null,
            "_view_module": "@jupyter-widgets/base",
            "overflow": null,
            "_model_module_version": "1.2.0",
            "_view_count": null,
            "flex_flow": null,
            "width": null,
            "min_width": null,
            "border": null,
            "align_items": null,
            "bottom": null,
            "_model_module": "@jupyter-widgets/base",
            "top": null,
            "grid_column": null,
            "overflow_y": null,
            "overflow_x": null,
            "grid_auto_flow": null,
            "grid_area": null,
            "grid_template_columns": null,
            "flex": null,
            "_model_name": "LayoutModel",
            "justify_items": null,
            "grid_row": null,
            "max_height": null,
            "align_content": null,
            "visibility": null,
            "align_self": null,
            "height": null,
            "min_height": null,
            "padding": null,
            "grid_auto_rows": null,
            "grid_gap": null,
            "max_width": null,
            "order": null,
            "_view_module_version": "1.2.0",
            "grid_template_areas": null,
            "object_position": null,
            "object_fit": null,
            "grid_auto_columns": null,
            "margin": null,
            "display": null,
            "left": null
          }
        },
        "a022909840c2454eac9d710ba97d98e4": {
          "model_module": "@jupyter-widgets/controls",
          "model_name": "HBoxModel",
          "state": {
            "_view_name": "HBoxView",
            "_dom_classes": [],
            "_model_name": "HBoxModel",
            "_view_module": "@jupyter-widgets/controls",
            "_model_module_version": "1.5.0",
            "_view_count": null,
            "_view_module_version": "1.5.0",
            "box_style": "",
            "layout": "IPY_MODEL_8f234354d34444bcbf09271e36354ade",
            "_model_module": "@jupyter-widgets/controls",
            "children": [
              "IPY_MODEL_cbe172377b414810b567d3a750934133",
              "IPY_MODEL_e181eb9013db4ee7bb0d0db41d4c8b22"
            ]
          }
        },
        "8f234354d34444bcbf09271e36354ade": {
          "model_module": "@jupyter-widgets/base",
          "model_name": "LayoutModel",
          "state": {
            "_view_name": "LayoutView",
            "grid_template_rows": null,
            "right": null,
            "justify_content": null,
            "_view_module": "@jupyter-widgets/base",
            "overflow": null,
            "_model_module_version": "1.2.0",
            "_view_count": null,
            "flex_flow": null,
            "width": null,
            "min_width": null,
            "border": null,
            "align_items": null,
            "bottom": null,
            "_model_module": "@jupyter-widgets/base",
            "top": null,
            "grid_column": null,
            "overflow_y": null,
            "overflow_x": null,
            "grid_auto_flow": null,
            "grid_area": null,
            "grid_template_columns": null,
            "flex": null,
            "_model_name": "LayoutModel",
            "justify_items": null,
            "grid_row": null,
            "max_height": null,
            "align_content": null,
            "visibility": null,
            "align_self": null,
            "height": null,
            "min_height": null,
            "padding": null,
            "grid_auto_rows": null,
            "grid_gap": null,
            "max_width": null,
            "order": null,
            "_view_module_version": "1.2.0",
            "grid_template_areas": null,
            "object_position": null,
            "object_fit": null,
            "grid_auto_columns": null,
            "margin": null,
            "display": null,
            "left": null
          }
        },
        "cbe172377b414810b567d3a750934133": {
          "model_module": "@jupyter-widgets/controls",
          "model_name": "IntProgressModel",
          "state": {
            "_view_name": "ProgressView",
            "style": "IPY_MODEL_11bcd5faf7224bd39fd9985d974e00da",
            "_dom_classes": [],
            "description": "Downloading: 100%",
            "_model_name": "IntProgressModel",
            "bar_style": "success",
            "max": 536063208,
            "_view_module": "@jupyter-widgets/controls",
            "_model_module_version": "1.5.0",
            "value": 536063208,
            "_view_count": null,
            "_view_module_version": "1.5.0",
            "orientation": "horizontal",
            "min": 0,
            "description_tooltip": null,
            "_model_module": "@jupyter-widgets/controls",
            "layout": "IPY_MODEL_ef7bf7ebfb0940b882b806ac33761e17"
          }
        },
        "e181eb9013db4ee7bb0d0db41d4c8b22": {
          "model_module": "@jupyter-widgets/controls",
          "model_name": "HTMLModel",
          "state": {
            "_view_name": "HTMLView",
            "style": "IPY_MODEL_530c9557002f4bdaa13b020993aea97f",
            "_dom_classes": [],
            "description": "",
            "_model_name": "HTMLModel",
            "placeholder": "​",
            "_view_module": "@jupyter-widgets/controls",
            "_model_module_version": "1.5.0",
            "value": " 536M/536M [00:19&lt;00:00, 27.4MB/s]",
            "_view_count": null,
            "_view_module_version": "1.5.0",
            "description_tooltip": null,
            "_model_module": "@jupyter-widgets/controls",
            "layout": "IPY_MODEL_c5391cee348d412387c17a27bdd8e1a6"
          }
        },
        "11bcd5faf7224bd39fd9985d974e00da": {
          "model_module": "@jupyter-widgets/controls",
          "model_name": "ProgressStyleModel",
          "state": {
            "_view_name": "StyleView",
            "_model_name": "ProgressStyleModel",
            "description_width": "initial",
            "_view_module": "@jupyter-widgets/base",
            "_model_module_version": "1.5.0",
            "_view_count": null,
            "_view_module_version": "1.2.0",
            "bar_color": null,
            "_model_module": "@jupyter-widgets/controls"
          }
        },
        "ef7bf7ebfb0940b882b806ac33761e17": {
          "model_module": "@jupyter-widgets/base",
          "model_name": "LayoutModel",
          "state": {
            "_view_name": "LayoutView",
            "grid_template_rows": null,
            "right": null,
            "justify_content": null,
            "_view_module": "@jupyter-widgets/base",
            "overflow": null,
            "_model_module_version": "1.2.0",
            "_view_count": null,
            "flex_flow": null,
            "width": null,
            "min_width": null,
            "border": null,
            "align_items": null,
            "bottom": null,
            "_model_module": "@jupyter-widgets/base",
            "top": null,
            "grid_column": null,
            "overflow_y": null,
            "overflow_x": null,
            "grid_auto_flow": null,
            "grid_area": null,
            "grid_template_columns": null,
            "flex": null,
            "_model_name": "LayoutModel",
            "justify_items": null,
            "grid_row": null,
            "max_height": null,
            "align_content": null,
            "visibility": null,
            "align_self": null,
            "height": null,
            "min_height": null,
            "padding": null,
            "grid_auto_rows": null,
            "grid_gap": null,
            "max_width": null,
            "order": null,
            "_view_module_version": "1.2.0",
            "grid_template_areas": null,
            "object_position": null,
            "object_fit": null,
            "grid_auto_columns": null,
            "margin": null,
            "display": null,
            "left": null
          }
        },
        "530c9557002f4bdaa13b020993aea97f": {
          "model_module": "@jupyter-widgets/controls",
          "model_name": "DescriptionStyleModel",
          "state": {
            "_view_name": "StyleView",
            "_model_name": "DescriptionStyleModel",
            "description_width": "",
            "_view_module": "@jupyter-widgets/base",
            "_model_module_version": "1.5.0",
            "_view_count": null,
            "_view_module_version": "1.2.0",
            "_model_module": "@jupyter-widgets/controls"
          }
        },
        "c5391cee348d412387c17a27bdd8e1a6": {
          "model_module": "@jupyter-widgets/base",
          "model_name": "LayoutModel",
          "state": {
            "_view_name": "LayoutView",
            "grid_template_rows": null,
            "right": null,
            "justify_content": null,
            "_view_module": "@jupyter-widgets/base",
            "overflow": null,
            "_model_module_version": "1.2.0",
            "_view_count": null,
            "flex_flow": null,
            "width": null,
            "min_width": null,
            "border": null,
            "align_items": null,
            "bottom": null,
            "_model_module": "@jupyter-widgets/base",
            "top": null,
            "grid_column": null,
            "overflow_y": null,
            "overflow_x": null,
            "grid_auto_flow": null,
            "grid_area": null,
            "grid_template_columns": null,
            "flex": null,
            "_model_name": "LayoutModel",
            "justify_items": null,
            "grid_row": null,
            "max_height": null,
            "align_content": null,
            "visibility": null,
            "align_self": null,
            "height": null,
            "min_height": null,
            "padding": null,
            "grid_auto_rows": null,
            "grid_gap": null,
            "max_width": null,
            "order": null,
            "_view_module_version": "1.2.0",
            "grid_template_areas": null,
            "object_position": null,
            "object_fit": null,
            "grid_auto_columns": null,
            "margin": null,
            "display": null,
            "left": null
          }
        },
        "3bdd8c8180b741cdb936de3fcea0e086": {
          "model_module": "@jupyter-widgets/controls",
          "model_name": "HBoxModel",
          "state": {
            "_view_name": "HBoxView",
            "_dom_classes": [],
            "_model_name": "HBoxModel",
            "_view_module": "@jupyter-widgets/controls",
            "_model_module_version": "1.5.0",
            "_view_count": null,
            "_view_module_version": "1.5.0",
            "box_style": "",
            "layout": "IPY_MODEL_d5cbce81fffb45169549cefee5e41463",
            "_model_module": "@jupyter-widgets/controls",
            "children": [
              "IPY_MODEL_6047821adae64344adb6a97f5922b38f",
              "IPY_MODEL_bea9e2d0dd3b49a1befc9ac000fefaa2"
            ]
          }
        },
        "d5cbce81fffb45169549cefee5e41463": {
          "model_module": "@jupyter-widgets/base",
          "model_name": "LayoutModel",
          "state": {
            "_view_name": "LayoutView",
            "grid_template_rows": null,
            "right": null,
            "justify_content": null,
            "_view_module": "@jupyter-widgets/base",
            "overflow": null,
            "_model_module_version": "1.2.0",
            "_view_count": null,
            "flex_flow": null,
            "width": null,
            "min_width": null,
            "border": null,
            "align_items": null,
            "bottom": null,
            "_model_module": "@jupyter-widgets/base",
            "top": null,
            "grid_column": null,
            "overflow_y": null,
            "overflow_x": null,
            "grid_auto_flow": null,
            "grid_area": null,
            "grid_template_columns": null,
            "flex": null,
            "_model_name": "LayoutModel",
            "justify_items": null,
            "grid_row": null,
            "max_height": null,
            "align_content": null,
            "visibility": null,
            "align_self": null,
            "height": null,
            "min_height": null,
            "padding": null,
            "grid_auto_rows": null,
            "grid_gap": null,
            "max_width": null,
            "order": null,
            "_view_module_version": "1.2.0",
            "grid_template_areas": null,
            "object_position": null,
            "object_fit": null,
            "grid_auto_columns": null,
            "margin": null,
            "display": null,
            "left": null
          }
        },
        "6047821adae64344adb6a97f5922b38f": {
          "model_module": "@jupyter-widgets/controls",
          "model_name": "IntProgressModel",
          "state": {
            "_view_name": "ProgressView",
            "style": "IPY_MODEL_8f874aad1f8b4749ae28905c3bb2c863",
            "_dom_classes": [],
            "description": "Downloading: 100%",
            "_model_name": "IntProgressModel",
            "bar_style": "success",
            "max": 213450,
            "_view_module": "@jupyter-widgets/controls",
            "_model_module_version": "1.5.0",
            "value": 213450,
            "_view_count": null,
            "_view_module_version": "1.5.0",
            "orientation": "horizontal",
            "min": 0,
            "description_tooltip": null,
            "_model_module": "@jupyter-widgets/controls",
            "layout": "IPY_MODEL_d46c55b9464a410184bb733865fb48d6"
          }
        },
        "bea9e2d0dd3b49a1befc9ac000fefaa2": {
          "model_module": "@jupyter-widgets/controls",
          "model_name": "HTMLModel",
          "state": {
            "_view_name": "HTMLView",
            "style": "IPY_MODEL_74e9d32169bb4524bb304691998b6895",
            "_dom_classes": [],
            "description": "",
            "_model_name": "HTMLModel",
            "placeholder": "​",
            "_view_module": "@jupyter-widgets/controls",
            "_model_module_version": "1.5.0",
            "value": " 213k/213k [00:00&lt;00:00, 565kB/s]",
            "_view_count": null,
            "_view_module_version": "1.5.0",
            "description_tooltip": null,
            "_model_module": "@jupyter-widgets/controls",
            "layout": "IPY_MODEL_7a9850b96d214729a294adcbd4e1e11c"
          }
        },
        "8f874aad1f8b4749ae28905c3bb2c863": {
          "model_module": "@jupyter-widgets/controls",
          "model_name": "ProgressStyleModel",
          "state": {
            "_view_name": "StyleView",
            "_model_name": "ProgressStyleModel",
            "description_width": "initial",
            "_view_module": "@jupyter-widgets/base",
            "_model_module_version": "1.5.0",
            "_view_count": null,
            "_view_module_version": "1.2.0",
            "bar_color": null,
            "_model_module": "@jupyter-widgets/controls"
          }
        },
        "d46c55b9464a410184bb733865fb48d6": {
          "model_module": "@jupyter-widgets/base",
          "model_name": "LayoutModel",
          "state": {
            "_view_name": "LayoutView",
            "grid_template_rows": null,
            "right": null,
            "justify_content": null,
            "_view_module": "@jupyter-widgets/base",
            "overflow": null,
            "_model_module_version": "1.2.0",
            "_view_count": null,
            "flex_flow": null,
            "width": null,
            "min_width": null,
            "border": null,
            "align_items": null,
            "bottom": null,
            "_model_module": "@jupyter-widgets/base",
            "top": null,
            "grid_column": null,
            "overflow_y": null,
            "overflow_x": null,
            "grid_auto_flow": null,
            "grid_area": null,
            "grid_template_columns": null,
            "flex": null,
            "_model_name": "LayoutModel",
            "justify_items": null,
            "grid_row": null,
            "max_height": null,
            "align_content": null,
            "visibility": null,
            "align_self": null,
            "height": null,
            "min_height": null,
            "padding": null,
            "grid_auto_rows": null,
            "grid_gap": null,
            "max_width": null,
            "order": null,
            "_view_module_version": "1.2.0",
            "grid_template_areas": null,
            "object_position": null,
            "object_fit": null,
            "grid_auto_columns": null,
            "margin": null,
            "display": null,
            "left": null
          }
        },
        "74e9d32169bb4524bb304691998b6895": {
          "model_module": "@jupyter-widgets/controls",
          "model_name": "DescriptionStyleModel",
          "state": {
            "_view_name": "StyleView",
            "_model_name": "DescriptionStyleModel",
            "description_width": "",
            "_view_module": "@jupyter-widgets/base",
            "_model_module_version": "1.5.0",
            "_view_count": null,
            "_view_module_version": "1.2.0",
            "_model_module": "@jupyter-widgets/controls"
          }
        },
        "7a9850b96d214729a294adcbd4e1e11c": {
          "model_module": "@jupyter-widgets/base",
          "model_name": "LayoutModel",
          "state": {
            "_view_name": "LayoutView",
            "grid_template_rows": null,
            "right": null,
            "justify_content": null,
            "_view_module": "@jupyter-widgets/base",
            "overflow": null,
            "_model_module_version": "1.2.0",
            "_view_count": null,
            "flex_flow": null,
            "width": null,
            "min_width": null,
            "border": null,
            "align_items": null,
            "bottom": null,
            "_model_module": "@jupyter-widgets/base",
            "top": null,
            "grid_column": null,
            "overflow_y": null,
            "overflow_x": null,
            "grid_auto_flow": null,
            "grid_area": null,
            "grid_template_columns": null,
            "flex": null,
            "_model_name": "LayoutModel",
            "justify_items": null,
            "grid_row": null,
            "max_height": null,
            "align_content": null,
            "visibility": null,
            "align_self": null,
            "height": null,
            "min_height": null,
            "padding": null,
            "grid_auto_rows": null,
            "grid_gap": null,
            "max_width": null,
            "order": null,
            "_view_module_version": "1.2.0",
            "grid_template_areas": null,
            "object_position": null,
            "object_fit": null,
            "grid_auto_columns": null,
            "margin": null,
            "display": null,
            "left": null
          }
        }
      }
    }
  },
  "cells": [
    {
      "cell_type": "code",
      "metadata": {
        "id": "4CyEVmiL8xwH",
        "colab_type": "code",
        "colab": {
          "base_uri": "https://localhost:8080/",
          "height": 439
        },
        "outputId": "50bcfa6b-9bd3-43ff-ec98-dd12e201aa49"
      },
      "source": [
        "%tensorflow_version 2.x\n",
        "import tensorflow as tf \n",
        "print(tf.__version__)\n",
        "\n",
        "!pip install transformers "
      ],
      "execution_count": null,
      "outputs": [
        {
          "output_type": "stream",
          "text": [
            "2.2.0-rc3\n",
            "Requirement already satisfied: transformers in /usr/local/lib/python3.6/dist-packages (2.8.0)\n",
            "Requirement already satisfied: sacremoses in /usr/local/lib/python3.6/dist-packages (from transformers) (0.0.41)\n",
            "Requirement already satisfied: tokenizers==0.5.2 in /usr/local/lib/python3.6/dist-packages (from transformers) (0.5.2)\n",
            "Requirement already satisfied: filelock in /usr/local/lib/python3.6/dist-packages (from transformers) (3.0.12)\n",
            "Requirement already satisfied: requests in /usr/local/lib/python3.6/dist-packages (from transformers) (2.21.0)\n",
            "Requirement already satisfied: numpy in /usr/local/lib/python3.6/dist-packages (from transformers) (1.18.3)\n",
            "Requirement already satisfied: tqdm>=4.27 in /usr/local/lib/python3.6/dist-packages (from transformers) (4.38.0)\n",
            "Requirement already satisfied: boto3 in /usr/local/lib/python3.6/dist-packages (from transformers) (1.12.43)\n",
            "Requirement already satisfied: sentencepiece in /usr/local/lib/python3.6/dist-packages (from transformers) (0.1.86)\n",
            "Requirement already satisfied: regex!=2019.12.17 in /usr/local/lib/python3.6/dist-packages (from transformers) (2019.12.20)\n",
            "Requirement already satisfied: dataclasses; python_version < \"3.7\" in /usr/local/lib/python3.6/dist-packages (from transformers) (0.7)\n",
            "Requirement already satisfied: six in /usr/local/lib/python3.6/dist-packages (from sacremoses->transformers) (1.12.0)\n",
            "Requirement already satisfied: joblib in /usr/local/lib/python3.6/dist-packages (from sacremoses->transformers) (0.14.1)\n",
            "Requirement already satisfied: click in /usr/local/lib/python3.6/dist-packages (from sacremoses->transformers) (7.1.1)\n",
            "Requirement already satisfied: chardet<3.1.0,>=3.0.2 in /usr/local/lib/python3.6/dist-packages (from requests->transformers) (3.0.4)\n",
            "Requirement already satisfied: urllib3<1.25,>=1.21.1 in /usr/local/lib/python3.6/dist-packages (from requests->transformers) (1.24.3)\n",
            "Requirement already satisfied: idna<2.9,>=2.5 in /usr/local/lib/python3.6/dist-packages (from requests->transformers) (2.8)\n",
            "Requirement already satisfied: certifi>=2017.4.17 in /usr/local/lib/python3.6/dist-packages (from requests->transformers) (2020.4.5.1)\n",
            "Requirement already satisfied: jmespath<1.0.0,>=0.7.1 in /usr/local/lib/python3.6/dist-packages (from boto3->transformers) (0.9.5)\n",
            "Requirement already satisfied: botocore<1.16.0,>=1.15.43 in /usr/local/lib/python3.6/dist-packages (from boto3->transformers) (1.15.43)\n",
            "Requirement already satisfied: s3transfer<0.4.0,>=0.3.0 in /usr/local/lib/python3.6/dist-packages (from boto3->transformers) (0.3.3)\n",
            "Requirement already satisfied: docutils<0.16,>=0.10 in /usr/local/lib/python3.6/dist-packages (from botocore<1.16.0,>=1.15.43->boto3->transformers) (0.15.2)\n",
            "Requirement already satisfied: python-dateutil<3.0.0,>=2.1 in /usr/local/lib/python3.6/dist-packages (from botocore<1.16.0,>=1.15.43->boto3->transformers) (2.8.1)\n"
          ],
          "name": "stdout"
        }
      ]
    },
    {
      "cell_type": "code",
      "metadata": {
        "id": "Yp6HsoQ7WS5b",
        "colab_type": "code",
        "colab": {
          "base_uri": "https://localhost:8080/",
          "height": 125
        },
        "outputId": "b50731b7-584a-4c6d-b16a-ceab6d5c37d6"
      },
      "source": [
        "from google.colab import drive\n",
        "drive.mount('/content/drive')"
      ],
      "execution_count": null,
      "outputs": [
        {
          "output_type": "stream",
          "text": [
            "Go to this URL in a browser: https://accounts.google.com/o/oauth2/auth?client_id=947318989803-6bn6qk8qdgf4n4g3pfee6491hc0brc4i.apps.googleusercontent.com&redirect_uri=urn%3aietf%3awg%3aoauth%3a2.0%3aoob&response_type=code&scope=email%20https%3a%2f%2fwww.googleapis.com%2fauth%2fdocs.test%20https%3a%2f%2fwww.googleapis.com%2fauth%2fdrive%20https%3a%2f%2fwww.googleapis.com%2fauth%2fdrive.photos.readonly%20https%3a%2f%2fwww.googleapis.com%2fauth%2fpeopleapi.readonly\n",
            "\n",
            "Enter your authorization code:\n",
            "··········\n",
            "Mounted at /content/drive\n"
          ],
          "name": "stdout"
        }
      ]
    },
    {
      "cell_type": "code",
      "metadata": {
        "id": "vH2yqRllUWlD",
        "colab_type": "code",
        "colab": {}
      },
      "source": [
        "import pandas as pd\n",
        "from sklearn import preprocessing\n",
        "from sklearn.model_selection import train_test_split\n",
        "from matplotlib import pyplot as plt \n",
        "import numpy as np\n",
        "import time\n",
        "import datetime\n",
        "from tqdm import tqdm\n",
        "from transformers import (TFBertForSequenceClassification,\n",
        "                          TFDistilBertForSequenceClassification,\n",
        "                          TFAlbertForSequenceClassification,\n",
        "                          AlbertTokenizer,\n",
        "                          DistilBertTokenizer, \n",
        "                          BertTokenizer,\n",
        "                          BertConfig,\n",
        "                          AlbertConfig,\n",
        "                          DistilBertConfig                      \n",
        "                          )\n"
      ],
      "execution_count": null,
      "outputs": []
    },
    {
      "cell_type": "code",
      "metadata": {
        "id": "_DA7sjaPqzez",
        "colab_type": "code",
        "colab": {}
      },
      "source": [
        ""
      ],
      "execution_count": null,
      "outputs": []
    },
    {
      "cell_type": "code",
      "metadata": {
        "id": "O_JQlmTw6v3Z",
        "colab_type": "code",
        "colab": {
          "base_uri": "https://localhost:8080/",
          "height": 213
        },
        "outputId": "cd18aac3-f459-42ae-d331-dc41edf537cb"
      },
      "source": [
        "\n",
        "dataset = 'AG'\n",
        "\n",
        "if dataset == 'IMDB':\n",
        "  num_labels = 2\n",
        "  data = pd.read_csv('/content/drive/My Drive/datasets/IMDB Dataset.csv').sample(frac=1).reset_index(drop=True)\n",
        "elif dataset == 'AG':\n",
        "  num_labels = 4\n",
        "  data = pd.read_csv('/content/drive/My Drive/datasets/ag_news_csv/train.csv', header=None).sample(frac=1).reset_index(drop=True)\n",
        "  temp = pd.read_csv('/content/drive/My Drive/datasets/ag_news_csv/test.csv', header = None).sample(frac=1).reset_index(drop=True)\n",
        "  data = pd.concat([data, temp]).sample(frac=1).reset_index(drop=True)\n",
        "\n",
        "print(data.shape)\n",
        "\n",
        "data.head()"
      ],
      "execution_count": null,
      "outputs": [
        {
          "output_type": "stream",
          "text": [
            "(127600, 3)\n"
          ],
          "name": "stdout"
        },
        {
          "output_type": "execute_result",
          "data": {
            "text/html": [
              "<div>\n",
              "<style scoped>\n",
              "    .dataframe tbody tr th:only-of-type {\n",
              "        vertical-align: middle;\n",
              "    }\n",
              "\n",
              "    .dataframe tbody tr th {\n",
              "        vertical-align: top;\n",
              "    }\n",
              "\n",
              "    .dataframe thead th {\n",
              "        text-align: right;\n",
              "    }\n",
              "</style>\n",
              "<table border=\"1\" class=\"dataframe\">\n",
              "  <thead>\n",
              "    <tr style=\"text-align: right;\">\n",
              "      <th></th>\n",
              "      <th>0</th>\n",
              "      <th>1</th>\n",
              "      <th>2</th>\n",
              "    </tr>\n",
              "  </thead>\n",
              "  <tbody>\n",
              "    <tr>\n",
              "      <th>0</th>\n",
              "      <td>3</td>\n",
              "      <td>Tokyo Stocks Bounce Up at Opening</td>\n",
              "      <td>TOKYO (Reuters) - Tokyo's key Nikkei average ...</td>\n",
              "    </tr>\n",
              "    <tr>\n",
              "      <th>1</th>\n",
              "      <td>3</td>\n",
              "      <td>Treasuries Dip But Selling Momentum Slows (Reu...</td>\n",
              "      <td>Reuters - U.S. Treasury debt was down a sliver...</td>\n",
              "    </tr>\n",
              "    <tr>\n",
              "      <th>2</th>\n",
              "      <td>2</td>\n",
              "      <td>Defending champions avoid second lost</td>\n",
              "      <td>Defending champions Detroit Pistons avoided se...</td>\n",
              "    </tr>\n",
              "    <tr>\n",
              "      <th>3</th>\n",
              "      <td>3</td>\n",
              "      <td>Durable Goods Orders Up</td>\n",
              "      <td>Orders for durable goods rose in September for...</td>\n",
              "    </tr>\n",
              "    <tr>\n",
              "      <th>4</th>\n",
              "      <td>2</td>\n",
              "      <td>Venus gets off to positive start</td>\n",
              "      <td>Venus Williams, fighting to qualify for the se...</td>\n",
              "    </tr>\n",
              "  </tbody>\n",
              "</table>\n",
              "</div>"
            ],
            "text/plain": [
              "   0  ...                                                  2\n",
              "0  3  ...   TOKYO (Reuters) - Tokyo's key Nikkei average ...\n",
              "1  3  ...  Reuters - U.S. Treasury debt was down a sliver...\n",
              "2  2  ...  Defending champions Detroit Pistons avoided se...\n",
              "3  3  ...  Orders for durable goods rose in September for...\n",
              "4  2  ...  Venus Williams, fighting to qualify for the se...\n",
              "\n",
              "[5 rows x 3 columns]"
            ]
          },
          "metadata": {
            "tags": []
          },
          "execution_count": 7
        }
      ]
    },
    {
      "cell_type": "code",
      "metadata": {
        "id": "oKtljwr6VXMM",
        "colab_type": "code",
        "colab": {}
      },
      "source": [
        ""
      ],
      "execution_count": null,
      "outputs": []
    },
    {
      "cell_type": "code",
      "metadata": {
        "id": "_yEQD8vT6v3p",
        "colab_type": "code",
        "colab": {
          "base_uri": "https://localhost:8080/",
          "height": 298
        },
        "outputId": "708b2c26-fa76-4e80-8e82-d644c92face0"
      },
      "source": [
        "label_encoder = preprocessing.LabelEncoder()\n",
        "\n",
        "if dataset == 'IMDB':\n",
        "  data['sentiment'] = label_encoder.fit_transform(data['sentiment'])\n",
        "  print(data['sentiment'].value_counts())\n",
        "elif dataset == 'AG':\n",
        "  data[0] = label_encoder.fit_transform(data[0])\n",
        "  print(data[0].value_counts())\n",
        "\n",
        "print(data.head())\n",
        "\n",
        "if dataset == 'IMDB': \n",
        "  x = (np.array(data['review']))\n",
        "  y = (np.array(data['sentiment']))\n",
        "elif dataset == 'AG':\n",
        "  x = (np.array(data[2]))\n",
        "  y = (np.array(data[0]))\n",
        "\n",
        " \n",
        "x_train, x_test, y_train, y_test = train_test_split(x, y, test_size=0.2)\n",
        "\n",
        "x_train, x_val, y_train, y_val = train_test_split(x_train, y_train, test_size=0.25)\n",
        " \n",
        "print(\"Train dataset shape: {0}, \\nTest dataset shape: {1}, \\nValidation dataset shape: {2}\"\n",
        "      .format(x_train.shape, x_test.shape, x_val.shape))"
      ],
      "execution_count": null,
      "outputs": [
        {
          "output_type": "stream",
          "text": [
            "3    31900\n",
            "2    31900\n",
            "1    31900\n",
            "0    31900\n",
            "Name: 0, dtype: int64\n",
            "   0  ...                                                  2\n",
            "0  2  ...   TOKYO (Reuters) - Tokyo's key Nikkei average ...\n",
            "1  2  ...  Reuters - U.S. Treasury debt was down a sliver...\n",
            "2  1  ...  Defending champions Detroit Pistons avoided se...\n",
            "3  2  ...  Orders for durable goods rose in September for...\n",
            "4  1  ...  Venus Williams, fighting to qualify for the se...\n",
            "\n",
            "[5 rows x 3 columns]\n",
            "Train dataset shape: (76560,), \n",
            "Test dataset shape: (25520,), \n",
            "Validation dataset shape: (25520,)\n"
          ],
          "name": "stdout"
        }
      ]
    },
    {
      "cell_type": "code",
      "metadata": {
        "id": "C94Du-gpUZdA",
        "colab_type": "code",
        "colab": {
          "base_uri": "https://localhost:8080/",
          "height": 166,
          "referenced_widgets": [
            "3e0b5d6728f74510b1463cea2aef6426",
            "958295d6ad084046a02fb548d6859339",
            "d02d0ffa40844d708a1ba14f6535a57a",
            "a51a7b6fc1d345d9a027828f0881751c",
            "3d46d085503949f6bc0b1d20977f0552",
            "0c1ea48318ca4c5e9f898a65b66f6dde",
            "255f3b9b057449bea3acd152df4c5927",
            "a0dd593219d141699d9e21ffd1a662ef",
            "a022909840c2454eac9d710ba97d98e4",
            "8f234354d34444bcbf09271e36354ade",
            "cbe172377b414810b567d3a750934133",
            "e181eb9013db4ee7bb0d0db41d4c8b22",
            "11bcd5faf7224bd39fd9985d974e00da",
            "ef7bf7ebfb0940b882b806ac33761e17",
            "530c9557002f4bdaa13b020993aea97f",
            "c5391cee348d412387c17a27bdd8e1a6",
            "3bdd8c8180b741cdb936de3fcea0e086",
            "d5cbce81fffb45169549cefee5e41463",
            "6047821adae64344adb6a97f5922b38f",
            "bea9e2d0dd3b49a1befc9ac000fefaa2",
            "8f874aad1f8b4749ae28905c3bb2c863",
            "d46c55b9464a410184bb733865fb48d6",
            "74e9d32169bb4524bb304691998b6895",
            "7a9850b96d214729a294adcbd4e1e11c"
          ]
        },
        "outputId": "d4b2c576-a0e8-45e5-dfa5-344831e519df"
      },
      "source": [
        "model = 'base'\n",
        "\n",
        "if model == 'base':\n",
        "  config = BertConfig.from_pretrained(\"bert-base-uncased\", num_labels=num_labels)\n",
        "  bert_model = TFBertForSequenceClassification.from_pretrained(\"bert-base-uncased\", config = config)\n",
        "  bert_tokenizer = BertTokenizer.from_pretrained(\"bert-base-cased\")\n",
        "\n",
        "elif model == 'distil':\n",
        "  config = DistilBertConfig.from_pretrained(\"distilbert-base-cased\", num_labels=num_labels)\n",
        "  bert_model = TFDistilBertForSequenceClassification.from_pretrained('distilbert-base-cased', config = config)\n",
        "  bert_tokenizer = DistilBertTokenizer.from_pretrained('distilbert-base-cased')\n",
        "\n",
        "elif model == 'albert':\n",
        "  config = AlbertConfig.from_pretrained(\"albert-base-v2\", num_labels=num_labels)\n",
        "  bert_model = TFAlbertForSequenceClassification.from_pretrained('albert-base-v2', config = config)\n",
        "  bert_tokenizer = AlbertTokenizer.from_pretrained('albert-base-v2')\n"
      ],
      "execution_count": null,
      "outputs": [
        {
          "output_type": "display_data",
          "data": {
            "application/vnd.jupyter.widget-view+json": {
              "model_id": "3e0b5d6728f74510b1463cea2aef6426",
              "version_minor": 0,
              "version_major": 2
            },
            "text/plain": [
              "HBox(children=(IntProgress(value=0, description='Downloading', max=433, style=ProgressStyle(description_width=…"
            ]
          },
          "metadata": {
            "tags": []
          }
        },
        {
          "output_type": "stream",
          "text": [
            "\n"
          ],
          "name": "stdout"
        },
        {
          "output_type": "display_data",
          "data": {
            "application/vnd.jupyter.widget-view+json": {
              "model_id": "a022909840c2454eac9d710ba97d98e4",
              "version_minor": 0,
              "version_major": 2
            },
            "text/plain": [
              "HBox(children=(IntProgress(value=0, description='Downloading', max=536063208, style=ProgressStyle(description_…"
            ]
          },
          "metadata": {
            "tags": []
          }
        },
        {
          "output_type": "stream",
          "text": [
            "\n"
          ],
          "name": "stdout"
        },
        {
          "output_type": "display_data",
          "data": {
            "application/vnd.jupyter.widget-view+json": {
              "model_id": "3bdd8c8180b741cdb936de3fcea0e086",
              "version_minor": 0,
              "version_major": 2
            },
            "text/plain": [
              "HBox(children=(IntProgress(value=0, description='Downloading', max=213450, style=ProgressStyle(description_wid…"
            ]
          },
          "metadata": {
            "tags": []
          }
        },
        {
          "output_type": "stream",
          "text": [
            "\n"
          ],
          "name": "stdout"
        }
      ]
    },
    {
      "cell_type": "code",
      "metadata": {
        "id": "fW0mfL9uqgWL",
        "colab_type": "code",
        "colab": {
          "base_uri": "https://localhost:8080/",
          "height": 985
        },
        "outputId": "ab6d68d5-1ed9-4a4e-a836-24cb7e033341"
      },
      "source": [
        "config"
      ],
      "execution_count": null,
      "outputs": [
        {
          "output_type": "execute_result",
          "data": {
            "text/plain": [
              "BertConfig {\n",
              "  \"_num_labels\": 2,\n",
              "  \"architectures\": [\n",
              "    \"BertForMaskedLM\"\n",
              "  ],\n",
              "  \"attention_probs_dropout_prob\": 0.1,\n",
              "  \"bad_words_ids\": null,\n",
              "  \"bos_token_id\": null,\n",
              "  \"decoder_start_token_id\": null,\n",
              "  \"do_sample\": false,\n",
              "  \"early_stopping\": false,\n",
              "  \"eos_token_id\": null,\n",
              "  \"finetuning_task\": null,\n",
              "  \"hidden_act\": \"gelu\",\n",
              "  \"hidden_dropout_prob\": 0.1,\n",
              "  \"hidden_size\": 768,\n",
              "  \"id2label\": {\n",
              "    \"0\": \"LABEL_0\",\n",
              "    \"1\": \"LABEL_1\"\n",
              "  },\n",
              "  \"initializer_range\": 0.02,\n",
              "  \"intermediate_size\": 3072,\n",
              "  \"is_decoder\": false,\n",
              "  \"is_encoder_decoder\": false,\n",
              "  \"label2id\": {\n",
              "    \"LABEL_0\": 0,\n",
              "    \"LABEL_1\": 1\n",
              "  },\n",
              "  \"layer_norm_eps\": 1e-12,\n",
              "  \"length_penalty\": 1.0,\n",
              "  \"max_length\": 20,\n",
              "  \"max_position_embeddings\": 512,\n",
              "  \"min_length\": 0,\n",
              "  \"model_type\": \"bert\",\n",
              "  \"no_repeat_ngram_size\": 0,\n",
              "  \"num_attention_heads\": 12,\n",
              "  \"num_beams\": 1,\n",
              "  \"num_hidden_layers\": 12,\n",
              "  \"num_return_sequences\": 1,\n",
              "  \"output_attentions\": false,\n",
              "  \"output_hidden_states\": false,\n",
              "  \"output_past\": true,\n",
              "  \"pad_token_id\": 0,\n",
              "  \"prefix\": null,\n",
              "  \"pruned_heads\": {},\n",
              "  \"repetition_penalty\": 1.0,\n",
              "  \"task_specific_params\": null,\n",
              "  \"temperature\": 1.0,\n",
              "  \"top_k\": 50,\n",
              "  \"top_p\": 1.0,\n",
              "  \"torchscript\": false,\n",
              "  \"type_vocab_size\": 2,\n",
              "  \"use_bfloat16\": false,\n",
              "  \"vocab_size\": 30522\n",
              "}"
            ]
          },
          "metadata": {
            "tags": []
          },
          "execution_count": 9
        }
      ]
    },
    {
      "cell_type": "code",
      "metadata": {
        "id": "fR8vF9L56v4J",
        "colab_type": "code",
        "colab": {
          "base_uri": "https://localhost:8080/",
          "height": 70
        },
        "outputId": "03c32535-f959-4b35-8aa9-43074cf032e5"
      },
      "source": [
        "max_length=128\n",
        "\n",
        "def convert_to_input(reviews, max_length):\n",
        "    input_ids,attention_masks,token_type_ids = [], [], []\n",
        "  \n",
        "    for x in tqdm(reviews,position=0, leave=True):\n",
        "      \n",
        "        \n",
        "        inputs = bert_tokenizer.encode_plus(x, add_special_tokens=True, max_length=max_length,\n",
        "                                              pad_to_max_length = True, return_attention_mask = True, return_token_type_ids = True)\n",
        "        \n",
        "        input_ids.append(inputs['input_ids'])\n",
        "        attention_masks.append(inputs['attention_mask'])\n",
        "        token_type_ids.append(inputs['token_type_ids'])\n",
        "  \n",
        "    return [np.asarray(input_ids),\n",
        "            np.asarray(attention_masks),\n",
        "            np.asarray(token_type_ids)]\n",
        "\n",
        "x_train_input= convert_to_input(x_train, max_length)\n",
        "x_val_input = convert_to_input(x_val, max_length)\n",
        "x_test_input = convert_to_input(x_test, max_length)\n"
      ],
      "execution_count": null,
      "outputs": [
        {
          "output_type": "stream",
          "text": [
            "100%|██████████| 30000/30000 [00:40<00:00, 739.90it/s]\n",
            "100%|██████████| 10000/10000 [00:14<00:00, 708.62it/s]\n",
            "100%|██████████| 10000/10000 [00:13<00:00, 735.40it/s]\n"
          ],
          "name": "stderr"
        }
      ]
    },
    {
      "cell_type": "code",
      "metadata": {
        "scrolled": true,
        "id": "1gfyXK436v4R",
        "colab_type": "code",
        "colab": {}
      },
      "source": [
        "def example_to_features(input_ids,attention_masks,token_type_ids,y):\n",
        "    return {\"input_ids\": input_ids,\n",
        "          \"attention_mask\": attention_masks,\n",
        "          \"token_type_ids\": token_type_ids},y\n",
        "\n",
        "train_ds = tf.data.Dataset.from_tensor_slices((x_train_input[0],\n",
        "                                               x_train_input[1],\n",
        "                                               x_train_input[2],\n",
        "                                               y_train)).map(example_to_features).batch(16)\n",
        "\n",
        "val_ds = tf.data.Dataset.from_tensor_slices((x_val_input[0],\n",
        "                                               x_val_input[1],\n",
        "                                               x_val_input[2],\n",
        "                                               y_val)).map(example_to_features).batch(16)\n",
        "\n",
        "test_ds = tf.data.Dataset.from_tensor_slices((x_test_input[0],\n",
        "                                               x_test_input[1],\n",
        "                                               x_test_input[2],\n",
        "                                               y_test)).map(example_to_features).batch(16)"
      ],
      "execution_count": null,
      "outputs": []
    },
    {
      "cell_type": "code",
      "metadata": {
        "id": "2dia595qPImk",
        "colab_type": "code",
        "colab": {}
      },
      "source": [
        ""
      ],
      "execution_count": null,
      "outputs": []
    },
    {
      "cell_type": "code",
      "metadata": {
        "id": "_RUG6eXY6v4n",
        "colab_type": "code",
        "colab": {
          "base_uri": "https://localhost:8080/",
          "height": 263
        },
        "outputId": "020dec33-182d-44c3-eee3-85fbef616045"
      },
      "source": [
        "optimizer = tf.keras.optimizers.Adam(learning_rate=3e-5, epsilon=1e-08, clipnorm=1.0)\n",
        "loss = tf.keras.losses.SparseCategoricalCrossentropy(from_logits=True)\n",
        "metric = tf.keras.metrics.SparseCategoricalAccuracy('accuracy')\n",
        "\n",
        "\n",
        "bert_model.compile(optimizer=optimizer, loss=loss, metrics=[metric])\n",
        "\n",
        "bert_model.summary()"
      ],
      "execution_count": null,
      "outputs": [
        {
          "output_type": "stream",
          "text": [
            "Model: \"tf_albert_for_sequence_classification_2\"\n",
            "_________________________________________________________________\n",
            "Layer (type)                 Output Shape              Param #   \n",
            "=================================================================\n",
            "albert (TFAlbertMainLayer)   multiple                  11683584  \n",
            "_________________________________________________________________\n",
            "dropout_163 (Dropout)        multiple                  0         \n",
            "_________________________________________________________________\n",
            "classifier (Dense)           multiple                  1538      \n",
            "=================================================================\n",
            "Total params: 11,685,122\n",
            "Trainable params: 11,685,122\n",
            "Non-trainable params: 0\n",
            "_________________________________________________________________\n"
          ],
          "name": "stdout"
        }
      ]
    },
    {
      "cell_type": "code",
      "metadata": {
        "id": "sXip7A0us3gW",
        "colab_type": "code",
        "colab": {}
      },
      "source": [
        ""
      ],
      "execution_count": null,
      "outputs": []
    },
    {
      "cell_type": "code",
      "metadata": {
        "id": "QREmAZI66v4v",
        "colab_type": "code",
        "colab": {}
      },
      "source": [
        "\n",
        "bert_history = bert_model.fit(\n",
        "    train_ds,\n",
        "    epochs=1,\n",
        "    validation_data = val_ds\n",
        ")"
      ],
      "execution_count": null,
      "outputs": []
    },
    {
      "cell_type": "code",
      "metadata": {
        "id": "Edw6kC_RNmGp",
        "colab_type": "code",
        "colab": {}
      },
      "source": [
        "name = 'bert' + model + '_' + dataset + '_' + str(max_length)\n",
        "cp_path = '/content/drive/My Drive/datasets/sys843/'\n",
        "\n",
        "bert_model.save_weights(cp_path + name)"
      ],
      "execution_count": null,
      "outputs": []
    },
    {
      "cell_type": "code",
      "metadata": {
        "id": "YMydIzaD6v42",
        "colab_type": "code",
        "colab": {}
      },
      "source": [
        "# Plot training & validation accuracy values\n",
        "plt.plot(bert_history.history['accuracy'])\n",
        "plt.plot(bert_history.history['val_accuracy'])\n",
        "plt.title('Model accuracy')\n",
        "plt.ylabel('Accuracy')\n",
        "plt.xlabel('Epoch')\n",
        "plt.legend(['Train', 'Test'], loc='upper left')\n",
        "plt.show()\n",
        "\n",
        "# Plot training & validation loss values\n",
        "plt.plot(bert_history.history['loss'])\n",
        "plt.plot(bert_history.history['val_loss'])\n",
        "plt.title('Model loss')\n",
        "plt.ylabel('Loss')\n",
        "plt.xlabel('Epoch')\n",
        "plt.legend(['Train', 'Test'], loc='upper left')\n",
        "plt.show()"
      ],
      "execution_count": null,
      "outputs": []
    },
    {
      "cell_type": "code",
      "metadata": {
        "id": "-KP7csIA6v48",
        "colab_type": "code",
        "colab": {
          "base_uri": "https://localhost:8080/",
          "height": 34
        },
        "outputId": "d9dfa3c5-e6e7-4be5-cf67-a2ed8f4a5547"
      },
      "source": [
        "loss, accuracy = bert_model.evaluate(test_ds, verbose = 1) "
      ],
      "execution_count": null,
      "outputs": [
        {
          "output_type": "stream",
          "text": [
            "1595/1595 [==============================] - 280s 176ms/step - loss: 0.1686 - accuracy: 0.9427\n"
          ],
          "name": "stdout"
        }
      ]
    },
    {
      "cell_type": "code",
      "metadata": {
        "id": "VNu4wujm4rqf",
        "colab_type": "code",
        "colab": {}
      },
      "source": [
        ""
      ],
      "execution_count": null,
      "outputs": []
    },
    {
      "cell_type": "code",
      "metadata": {
        "id": "Ppbk3YXy9Jx6",
        "colab_type": "code",
        "colab": {}
      },
      "source": [
        ""
      ],
      "execution_count": null,
      "outputs": []
    },
    {
      "cell_type": "code",
      "metadata": {
        "id": "_eUNCU0Z9KKf",
        "colab_type": "code",
        "colab": {}
      },
      "source": [
        ""
      ],
      "execution_count": null,
      "outputs": []
    },
    {
      "cell_type": "code",
      "metadata": {
        "id": "1KF5nI3Q9JvI",
        "colab_type": "code",
        "colab": {}
      },
      "source": [
        "### analysis of a model"
      ],
      "execution_count": null,
      "outputs": []
    },
    {
      "cell_type": "code",
      "metadata": {
        "id": "c9B_kR3n9PuP",
        "colab_type": "code",
        "colab": {
          "base_uri": "https://localhost:8080/",
          "height": 263
        },
        "outputId": "c0bfbf02-a1cb-4711-94b8-68a591812648"
      },
      "source": [
        "# loading model\n",
        "\n",
        "ml = 256\n",
        "\n",
        "name = 'bert' + model + '_' + dataset + '_' + str(ml)\n",
        "cp_path = '/content/drive/My Drive/datasets/sys843/'\n",
        "\n",
        "bert_model.load_weights(cp_path + name)\n",
        "\n",
        "optimizer = tf.keras.optimizers.Adam(learning_rate=3e-5, epsilon=1e-08, clipnorm=1.0)\n",
        "loss = tf.keras.losses.SparseCategoricalCrossentropy(from_logits=True)\n",
        "metric = tf.keras.metrics.SparseCategoricalAccuracy('accuracy')\n",
        "\n",
        "\n",
        "bert_model.compile(optimizer=optimizer, loss=loss, metrics=[metric])\n",
        "\n",
        "bert_model.summary()"
      ],
      "execution_count": null,
      "outputs": [
        {
          "output_type": "stream",
          "text": [
            "Model: \"tf_bert_for_sequence_classification_5\"\n",
            "_________________________________________________________________\n",
            "Layer (type)                 Output Shape              Param #   \n",
            "=================================================================\n",
            "bert (TFBertMainLayer)       multiple                  108310272 \n",
            "_________________________________________________________________\n",
            "dropout_239 (Dropout)        multiple                  0         \n",
            "_________________________________________________________________\n",
            "classifier (Dense)           multiple                  1538      \n",
            "=================================================================\n",
            "Total params: 108,311,810\n",
            "Trainable params: 108,311,810\n",
            "Non-trainable params: 0\n",
            "_________________________________________________________________\n"
          ],
          "name": "stdout"
        }
      ]
    },
    {
      "cell_type": "code",
      "metadata": {
        "id": "1Lz2ftL0NEAD",
        "colab_type": "code",
        "colab": {
          "base_uri": "https://localhost:8080/",
          "height": 34
        },
        "outputId": "8e15313c-4e1c-4702-d5a0-48f10a2ec7e0"
      },
      "source": [
        "# create dataset\n",
        "\n",
        "def convert_to_input_analysis(reviews, max_length):\n",
        "    input_ids,attention_masks,token_type_ids = [], [], []\n",
        "    lengths = []\n",
        "  \n",
        "    for x in tqdm(reviews,position=0, leave=True):\n",
        "      \n",
        "        \n",
        "        inputs = bert_tokenizer.encode_plus(x, add_special_tokens=True, max_length=max_length,\n",
        "                                              pad_to_max_length = True, return_attention_mask = True, return_token_type_ids = True)\n",
        "        \n",
        "        input_ids.append(inputs['input_ids'])\n",
        "        attention_masks.append(inputs['attention_mask'])\n",
        "        token_type_ids.append(inputs['token_type_ids'])\n",
        "\n",
        "        \n",
        "        lengths.append(sum(inputs['attention_mask']))\n",
        "  \n",
        "    return {\"input_ids\": np.asarray(input_ids),\n",
        "          \"attention_mask\": np.asarray(attention_masks),\n",
        "          \"token_type_ids\": np.asarray(token_type_ids)}, np.array(lengths)\n",
        "\n",
        "\n",
        "x_test_analysis, x_length_analysis = convert_to_input_analysis(x_test, 512) #512 est le max de BERT"
      ],
      "execution_count": null,
      "outputs": [
        {
          "output_type": "stream",
          "text": [
            "100%|██████████| 10000/10000 [00:35<00:00, 285.54it/s]\n"
          ],
          "name": "stderr"
        }
      ]
    },
    {
      "cell_type": "code",
      "metadata": {
        "id": "pBSXvxHb6J1K",
        "colab_type": "code",
        "colab": {
          "base_uri": "https://localhost:8080/",
          "height": 34
        },
        "outputId": "2ddfb027-f186-45c7-b1f1-43f941491b94"
      },
      "source": [
        "sum(x_length_analysis==0)"
      ],
      "execution_count": null,
      "outputs": [
        {
          "output_type": "execute_result",
          "data": {
            "text/plain": [
              "0"
            ]
          },
          "metadata": {
            "tags": []
          },
          "execution_count": 113
        }
      ]
    },
    {
      "cell_type": "code",
      "metadata": {
        "id": "2NevqbgKoRcL",
        "colab_type": "code",
        "colab": {
          "base_uri": "https://localhost:8080/",
          "height": 34
        },
        "outputId": "7e6bcca0-3408-4756-f696-095cc14e8c8e"
      },
      "source": [
        "pred_proba = bert_model.predict(x_test_analysis, verbose = 1)\n",
        "pred_labels = pred_proba[0].argmax(axis=-1)\n",
        "\n"
      ],
      "execution_count": null,
      "outputs": [
        {
          "output_type": "stream",
          "text": [
            "313/313 [==============================] - 207s 660ms/step\n"
          ],
          "name": "stdout"
        }
      ]
    },
    {
      "cell_type": "code",
      "metadata": {
        "id": "KSNUoyBrITTT",
        "colab_type": "code",
        "colab": {}
      },
      "source": [
        "results = [[0 for x in range(2)] for y in range(513)]  #index of the list if the length of the sequence\n",
        "\n",
        "for i in range(0,len(x_length_analysis)):\n",
        "\n",
        "  results[x_length_analysis[i]][1] = results[x_length_analysis[i]][1] + 1\n",
        "  \n",
        "  if pred_labels[i]==y_test[i]:\n",
        "    results[x_length_analysis[i]][0] = results[x_length_analysis[i]][0] + 1\n"
      ],
      "execution_count": null,
      "outputs": []
    },
    {
      "cell_type": "code",
      "metadata": {
        "id": "7A7rUgJBMCjZ",
        "colab_type": "code",
        "colab": {}
      },
      "source": [
        ""
      ],
      "execution_count": null,
      "outputs": []
    },
    {
      "cell_type": "code",
      "metadata": {
        "id": "9PqBYfAXUF0-",
        "colab_type": "code",
        "colab": {}
      },
      "source": [
        "# plot acc depending on the sample's length (no samples implies no dot)\n",
        "\n",
        "acc = []\n",
        "real_length = []\n",
        "\n",
        "for i in range(0,513):\n",
        "  if results[i][1]!=0:\n",
        "    acc.append(results[i][0]/results[i][1])\n",
        "    real_length.append(i)"
      ],
      "execution_count": null,
      "outputs": []
    },
    {
      "cell_type": "code",
      "metadata": {
        "id": "efvwr_v0Ybyr",
        "colab_type": "code",
        "colab": {
          "base_uri": "https://localhost:8080/",
          "height": 310
        },
        "outputId": "b41d2f36-ec82-40a0-983f-93062083056c"
      },
      "source": [
        "plt.scatter(real_length, acc)\n",
        "plt.title('Accuracy of BERT_base (trained with embeddings of size 256) \\n depending on the length of the samples' )\n",
        "plt.xlabel(\"Length of the embedding\")\n",
        "plt.ylabel(\"Average accuracy\")\n",
        "plt.show()"
      ],
      "execution_count": null,
      "outputs": [
        {
          "output_type": "display_data",
          "data": {
            "image/png": "[encoded data removed]",
            "text/plain": [
              "<Figure size 432x288 with 1 Axes>"
            ]
          },
          "metadata": {
            "tags": [],
            "needs_background": "light"
          }
        }
      ]
    },
    {
      "cell_type": "code",
      "metadata": {
        "id": "Eh87faJ7aBRZ",
        "colab_type": "code",
        "colab": {}
      },
      "source": [
        ""
      ],
      "execution_count": null,
      "outputs": []
    },
    {
      "cell_type": "code",
      "metadata": {
        "id": "wMeHcutZKcea",
        "colab_type": "code",
        "colab": {}
      },
      "source": [
        "# plot acc depending on length of samples, but aggregate every 64 of length\n",
        "\n",
        "\n",
        "\n",
        "acc = []\n",
        "real_length = []\n",
        "\n",
        "begin = 0\n",
        "\n",
        "for i in np.linspace(0,513,9, dtype = 'int32')[1:]:\n",
        "  temp_acc = 0\n",
        "  temp_num_samples = 0 \n",
        "\n",
        "  for j in range(begin,i):\n",
        "    temp_acc = temp_acc + results[j][0]\n",
        "    temp_num_samples = temp_num_samples + results[j][1]\n",
        "\n",
        "  if temp_num_samples!=0:\n",
        "    acc.append(temp_acc/temp_num_samples)\n",
        "  else:\n",
        "    acc.append(0)\n",
        "\n",
        "  real_length.append(str(begin)+'-'+str(i))\n",
        "\n",
        "  begin = i\n"
      ],
      "execution_count": null,
      "outputs": []
    },
    {
      "cell_type": "code",
      "metadata": {
        "id": "dpV0IzDgVrpv",
        "colab_type": "code",
        "colab": {
          "base_uri": "https://localhost:8080/",
          "height": 256
        },
        "outputId": "8f4ccc22-3d48-4f81-a75c-54155a1ab1c0"
      },
      "source": [
        "plt.figure(figsize=(8, 3))\n",
        "plt.bar(real_length,acc, width=0.4)\n",
        "plt.title('Accuracy of BERT_base (trained with embeddings of size 256) \\n depending on the length of the samples' )\n",
        "plt.xlabel(\"Length of the embedding\")\n",
        "plt.ylabel(\"Average accuracy\")\n",
        "plt.show()"
      ],
      "execution_count": null,
      "outputs": [
        {
          "output_type": "display_data",
          "data": {
            "image/png": "[encoded data removed]",
            "text/plain": [
              "<Figure size 576x216 with 1 Axes>"
            ]
          },
          "metadata": {
            "tags": [],
            "needs_background": "light"
          }
        }
      ]
    },
    {
      "cell_type": "code",
      "metadata": {
        "id": "gqPLnLifTCDi",
        "colab_type": "code",
        "colab": {}
      },
      "source": [
        ""
      ],
      "execution_count": null,
      "outputs": []
    },
    {
      "cell_type": "code",
      "metadata": {
        "id": "GSCyDJwJGb2e",
        "colab_type": "code",
        "colab": {}
      },
      "source": [
        ""
      ],
      "execution_count": null,
      "outputs": []
    },
    {
      "cell_type": "code",
      "metadata": {
        "id": "CLhfUKWHGbzk",
        "colab_type": "code",
        "colab": {}
      },
      "source": [
        "dataset = 'AG News'"
      ],
      "execution_count": null,
      "outputs": []
    },
    {
      "cell_type": "code",
      "metadata": {
        "id": "-apRZgi4GcmG",
        "colab_type": "code",
        "colab": {
          "base_uri": "https://localhost:8080/",
          "height": 325
        },
        "outputId": "cecf7a84-5168-4e15-b83d-e27997e31c03"
      },
      "source": [
        "### plot acc of each model depending on max_length\n",
        "### The scores in the arrays are those obtained by testing the models for each different length\n",
        "\n",
        "if dataset == 'IMDB':\n",
        "  acc_base = [0.76,0.82,0.87,0.91]\n",
        "  acc_distil = [0.76,0.81,0.86,0.90]\n",
        "  acc_albert = [0.71,0.77,0.83,0.88]\n",
        "elif dataset =='AG News':\n",
        "  acc_base = [0.917,0.934,0.925,0.927]\n",
        "  acc_distil = [0.914,0.929,0.930,0.931]\n",
        "  acc_albert = [0.902,0.919,0.921,0.922]\n",
        "\n",
        "\n",
        "ml = [32,64,128,256]\n",
        "\n",
        "plt.plot(ml, acc_base, label = 'BERT_base')\n",
        "plt.plot(ml, acc_distil, label = 'DistilBert')\n",
        "plt.plot(ml, acc_albert, label = 'ALBERT')\n",
        "\n",
        "plt.xlabel('Maximum length of the samples')\n",
        "plt.ylabel('Accuracy')\n",
        "plt.title('Evolution of the accuracy depending on \\n the maximum length of the samples.\\n '+dataset+' dataset')\n",
        "plt.legend()\n",
        "plt.show()\n"
      ],
      "execution_count": null,
      "outputs": [
        {
          "output_type": "display_data",
          "data": {
            "image/png": "[encoded data removed]",
            "text/plain": [
              "<Figure size 432x288 with 1 Axes>"
            ]
          },
          "metadata": {
            "tags": [],
            "needs_background": "light"
          }
        }
      ]
    },
    {
      "cell_type": "code",
      "metadata": {
        "id": "ux05zud7NSh8",
        "colab_type": "code",
        "colab": {
          "base_uri": "https://localhost:8080/",
          "height": 325
        },
        "outputId": "1872f1e2-a124-401b-dff0-9f6657c21b49"
      },
      "source": [
        "### plot training speed of each model depending on max_length\n",
        "\n",
        "if dataset == 'IMDB':\n",
        "  acc_base = [590,832,1395,2520]\n",
        "  acc_distil = [340,460,742,1285]\n",
        "  acc_albert = [430,700,1110,1265]\n",
        "elif dataset =='AG News':\n",
        "  acc_base = [1060,1740,4200,8140]\n",
        "  acc_distil = [300,443,725,1400]\n",
        "  acc_albert = [545,820,1415,2693]\n",
        "\n",
        "ml = [32,64,128,256]\n",
        "\n",
        "plt.plot(ml, acc_base, label = 'BERT_base')\n",
        "plt.plot(ml, acc_distil, label = 'DistilBert')\n",
        "plt.plot(ml, acc_albert, label = 'ALBERT')\n",
        "\n",
        "plt.xlabel('Maximum length of the samples')\n",
        "plt.ylabel('Training time per epoch (in seconds)')\n",
        "plt.title('Evolution of the training speed depending on \\n the maximum length of the samples.\\n '+dataset+' dataset')\n",
        "plt.legend()\n",
        "plt.show()\n"
      ],
      "execution_count": null,
      "outputs": [
        {
          "output_type": "display_data",
          "data": {
            "image/png": "[encoded data removed]",
            "text/plain": [
              "<Figure size 432x288 with 1 Axes>"
            ]
          },
          "metadata": {
            "tags": [],
            "needs_background": "light"
          }
        }
      ]
    },
    {
      "cell_type": "code",
      "metadata": {
        "id": "FL9vxMyPNSlg",
        "colab_type": "code",
        "colab": {
          "base_uri": "https://localhost:8080/",
          "height": 325
        },
        "outputId": "778f9e2f-19fd-4b1e-b63d-62727a038768"
      },
      "source": [
        "### plot evaluation speed of each model depending on max_length\n",
        "if dataset == 'IMDB':\n",
        "  acc_base = [40,70,120,220]  #the values here are the results for each model/length\n",
        "  acc_distil = [20,35,60,110]\n",
        "  acc_albert = [40,75,115,130]\n",
        "elif dataset =='AG News':\n",
        "  acc_base = [100,176,300,830]\n",
        "  acc_distil = [32,48,78,150]\n",
        "  acc_albert = [74,108,170,305]\n",
        "\n",
        "ml = [32,64,128,256]\n",
        "\n",
        "plt.plot(ml, acc_base, label = 'BERT_base')\n",
        "plt.plot(ml, acc_distil, label = 'DistilBert')\n",
        "plt.plot(ml, acc_albert, label = 'ALBERT')\n",
        "\n",
        "plt.xlabel('Maximum length of the samples')\n",
        "plt.ylabel('Evaluation time (in seconds)')\n",
        "plt.title('Evolution of the evaluation speed for the test dataset \\n depending on the maximum length of the samples.\\n '+dataset+' dataset')\n",
        "plt.legend()\n",
        "plt.show()\n"
      ],
      "execution_count": null,
      "outputs": [
        {
          "output_type": "display_data",
          "data": {
            "image/png": "[encoded data removed]",
            "text/plain": [
              "<Figure size 432x288 with 1 Axes>"
            ]
          },
          "metadata": {
            "tags": [],
            "needs_background": "light"
          }
        }
      ]
    },
    {
      "cell_type": "code",
      "metadata": {
        "id": "ueY-L1hZvPUl",
        "colab_type": "code",
        "colab": {}
      },
      "source": [
        ""
      ],
      "execution_count": null,
      "outputs": []
    }
  ]
}